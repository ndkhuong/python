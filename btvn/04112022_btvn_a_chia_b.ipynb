{
 "cells": [
  {
   "cell_type": "code",
   "execution_count": null,
   "metadata": {},
   "outputs": [],
   "source": [
    "'''\n",
    "nhập 2 số nguyên a, b\n",
    "Tính và in ra a/b\n",
    "Xư lý ngoại lệ khi a, b ko là số nguyên hoặc b = 0\n",
    "'''"
   ]
  },
  {
   "cell_type": "code",
   "execution_count": null,
   "metadata": {},
   "outputs": [],
   "source": [
    "try:\n",
    "    a = int(input(\"nhap so nguyen a: \"))\n",
    "    b = int(input(\"nhap so nguyen b: \"))\n",
    "    print(\"a/b = \", a/b)\n",
    "except ValueError:\n",
    "    print(\"a, b phải là số nguyên\")\n",
    "except ZeroDivisionError:\n",
    "    print(\"b phải khác 0\")\n"
   ]
  }
 ],
 "metadata": {
  "kernelspec": {
   "display_name": "Python 3.10.7 64-bit",
   "language": "python",
   "name": "python3"
  },
  "language_info": {
   "codemirror_mode": {
    "name": "ipython",
    "version": 3
   },
   "file_extension": ".py",
   "mimetype": "text/x-python",
   "name": "python",
   "nbconvert_exporter": "python",
   "pygments_lexer": "ipython3",
   "version": "3.10.7"
  },
  "orig_nbformat": 4,
  "vscode": {
   "interpreter": {
    "hash": "cb7beb3013b57c7bcdb2e8843025786c7f69505c6f4c77befa87d22e0b9259a0"
   }
  }
 },
 "nbformat": 4,
 "nbformat_minor": 2
}
