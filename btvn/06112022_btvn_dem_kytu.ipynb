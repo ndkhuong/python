{
 "cells": [
  {
   "cell_type": "code",
   "execution_count": 22,
   "metadata": {},
   "outputs": [
    {
     "name": "stdout",
     "output_type": "stream",
     "text": [
      "123aaaa45678\n",
      "aa\n"
     ]
    }
   ],
   "source": [
    "s = input(\"Nhap chuoi cua ban: \")\n",
    "char = input(\"Nhap ky tu ban can dem: \")\n",
    "print(s)\n",
    "print(char)\n"
   ]
  },
  {
   "cell_type": "code",
   "execution_count": 23,
   "metadata": {},
   "outputs": [
    {
     "name": "stdout",
     "output_type": "stream",
     "text": [
      "So lan xua hien cua aa la 3\n"
     ]
    }
   ],
   "source": [
    "cnt = 0\n",
    "len_char = len(char)\n",
    "len_s = len(s)\n",
    "c = char[0]\n",
    "for i in range(len_s):\n",
    "    if (s[i] == c and i + len_char <= len_s):\n",
    "        check = 1\n",
    "        for j in range(1, len_char):\n",
    "            if (s[i + j] != char[j]):\n",
    "                check = 0\n",
    "                break\n",
    "        if (check == 1):\n",
    "            cnt += 1\n",
    "print(\"So lan xua hien cua {} la {}\".format(char, cnt))\n"
   ]
  }
 ],
 "metadata": {
  "kernelspec": {
   "display_name": "Python 3.10.7 64-bit",
   "language": "python",
   "name": "python3"
  },
  "language_info": {
   "codemirror_mode": {
    "name": "ipython",
    "version": 3
   },
   "file_extension": ".py",
   "mimetype": "text/x-python",
   "name": "python",
   "nbconvert_exporter": "python",
   "pygments_lexer": "ipython3",
   "version": "3.10.7"
  },
  "orig_nbformat": 4,
  "vscode": {
   "interpreter": {
    "hash": "cb7beb3013b57c7bcdb2e8843025786c7f69505c6f4c77befa87d22e0b9259a0"
   }
  }
 },
 "nbformat": 4,
 "nbformat_minor": 2
}
