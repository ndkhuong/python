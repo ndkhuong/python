{
 "cells": [
  {
   "cell_type": "code",
   "execution_count": 3,
   "metadata": {},
   "outputs": [],
   "source": [
    "def tinh_thue(luong):\n",
    "    if (luong <= 500) :\n",
    "        thue = 0\n",
    "    elif (luong >= 501 and luong <= 1000) :\n",
    "        thue = (luong - 500) * 5/100\n",
    "    elif (luong >= 1001 and luong <= 1500) :\n",
    "        thue = 500 * 5/100 + (luong - 1000) * 10/100\n",
    "    elif (luong >= 1501 and luong <= 2000) :\n",
    "        thue = 500 * 5/100 + 500 * 10/100 + (luong - 1500) * 15/100\n",
    "    elif (luong >= 2001) :\n",
    "        thue = 500 * 5/100 + 500 * 10/100 + 500 * 15/100 + (luong - 2000) * 20/100\n",
    "    return thue"
   ]
  },
  {
   "cell_type": "code",
   "execution_count": 4,
   "metadata": {},
   "outputs": [
    {
     "name": "stdout",
     "output_type": "stream",
     "text": [
      "Thuế bạn phải đóng:  190.0\n",
      "Lương thực lĩnh:  2010.0\n"
     ]
    }
   ],
   "source": [
    "luong = int(input(\"Nhập lương của bạn: \"))\n",
    "thue = tinh_thue(luong)\n",
    "print(\"Thuế bạn phải đóng: \", thue)\n",
    "print(\"Lương thực lĩnh: \", luong - thue)"
   ]
  }
 ],
 "metadata": {
  "kernelspec": {
   "display_name": "Python 3.10.7 64-bit",
   "language": "python",
   "name": "python3"
  },
  "language_info": {
   "codemirror_mode": {
    "name": "ipython",
    "version": 3
   },
   "file_extension": ".py",
   "mimetype": "text/x-python",
   "name": "python",
   "nbconvert_exporter": "python",
   "pygments_lexer": "ipython3",
   "version": "3.10.7"
  },
  "orig_nbformat": 4,
  "vscode": {
   "interpreter": {
    "hash": "cb7beb3013b57c7bcdb2e8843025786c7f69505c6f4c77befa87d22e0b9259a0"
   }
  }
 },
 "nbformat": 4,
 "nbformat_minor": 2
}
