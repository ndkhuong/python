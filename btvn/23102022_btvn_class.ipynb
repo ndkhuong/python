{
 "cells": [
  {
   "cell_type": "code",
   "execution_count": null,
   "metadata": {},
   "outputs": [],
   "source": [
    "class Person():\n",
    "    name = \"\"\n",
    "    age = 0\n",
    "    address = \"\"\n",
    "    def inputDetail(self):\n",
    "        self.name = input(\"Nhap ten cua ban: \")\n",
    "        self.age = int(input(\"Nhap tuoi cua ban: \"))\n",
    "        self.address = input(\"Nhap dia chi cua ban: \")\n",
    "    \n",
    "    def displayDetail(self):\n",
    "        print(\"Ho va ten: \", self.name)\n",
    "        print(\"Tuoi: \", self.age)\n",
    "        print(\"Dia chi: \", self.address)\n",
    "\n",
    "person1 = Person()\n",
    "person1.inputDetail()\n",
    "person1.displayDetail()\n",
    "\n",
    "print()\n",
    "person2 = Person()\n",
    "person2.inputDetail()\n",
    "person2.displayDetail()"
   ]
  },
  {
   "cell_type": "code",
   "execution_count": 22,
   "metadata": {},
   "outputs": [
    {
     "name": "stdout",
     "output_type": "stream",
     "text": [
      "15\n",
      "2 3\n"
     ]
    }
   ],
   "source": []
  },
  {
   "cell_type": "code",
   "execution_count": null,
   "metadata": {},
   "outputs": [],
   "source": []
  }
 ],
 "metadata": {
  "kernelspec": {
   "display_name": "Python 3.10.7 64-bit",
   "language": "python",
   "name": "python3"
  },
  "language_info": {
   "codemirror_mode": {
    "name": "ipython",
    "version": 3
   },
   "file_extension": ".py",
   "mimetype": "text/x-python",
   "name": "python",
   "nbconvert_exporter": "python",
   "pygments_lexer": "ipython3",
   "version": "3.10.7"
  },
  "orig_nbformat": 4,
  "vscode": {
   "interpreter": {
    "hash": "cb7beb3013b57c7bcdb2e8843025786c7f69505c6f4c77befa87d22e0b9259a0"
   }
  }
 },
 "nbformat": 4,
 "nbformat_minor": 2
}
