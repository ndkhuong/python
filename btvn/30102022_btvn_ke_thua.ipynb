{
 "cells": [
  {
   "cell_type": "code",
   "execution_count": null,
   "metadata": {},
   "outputs": [],
   "source": [
    "'''BT OOP: tạo class có tên TruongThuySon với các thuộc tính: VuKhi, Tuoi. \n",
    "1. Phương thức info in ra thông tin các thuộc tính \n",
    "2. Gọi 2 đối tượng và truyền các giá trị thuộc tính nhập vào từ bàn phím TTS1, TTS2\n",
    "3. Tạo class con TruongVoKy kế thừa class TruongThuySon thêm thuộc tính level và phương thức riêng là infoTruongVoKy – phương thức này in ra các thuộc tính kế thừa class cha và thuộc tính level\n",
    "4. gọi 2 đối tượng TVK của class TruongVoKy TVK1, TVK2\n",
    "5. kiểm tra xem TruongVoKy có phải là con của TruongThuySon hay không?\n",
    "6. Kiểm tra xem các đối tượng TTS2, TVK1 là thực thể của class TruongThuySon hay TruongVoKy'''"
   ]
  },
  {
   "cell_type": "code",
   "execution_count": 4,
   "metadata": {},
   "outputs": [],
   "source": [
    "import mylib\n"
   ]
  },
  {
   "cell_type": "code",
   "execution_count": 5,
   "metadata": {},
   "outputs": [
    {
     "name": "stdout",
     "output_type": "stream",
     "text": [
      "Vu khi:  Kiem\n",
      "Tuoi:  12\n"
     ]
    }
   ],
   "source": [
    "vukhi = input(\"nhap vu khi: \")\n",
    "tuoi = int(input(\"nhap tuoi: \"))\n",
    "TTS1 = mylib.TruongThuySon(vukhi, tuoi)\n",
    "TTS1.info()"
   ]
  },
  {
   "cell_type": "code",
   "execution_count": 6,
   "metadata": {},
   "outputs": [
    {
     "name": "stdout",
     "output_type": "stream",
     "text": [
      "Vu khi:  Cung\n",
      "Tuoi:  13\n"
     ]
    }
   ],
   "source": [
    "vukhi = input(\"nhap vu khi: \")\n",
    "tuoi = int(input(\"nhap tuoi: \"))\n",
    "TTS2 = mylib.TruongThuySon(vukhi, tuoi)\n",
    "TTS2.info()"
   ]
  },
  {
   "cell_type": "code",
   "execution_count": 8,
   "metadata": {},
   "outputs": [
    {
     "name": "stdout",
     "output_type": "stream",
     "text": [
      "Vu khi:  Bua\n",
      "Tuoi:  11\n",
      "Level:  5\n"
     ]
    }
   ],
   "source": [
    "vukhi = input(\"nhap vu khi: \")\n",
    "tuoi = int(input(\"nhap tuoi: \"))\n",
    "lev = int(input(\"nhap lev: \"))\n",
    "TVK1 = mylib.TruongVoKy(vukhi, tuoi, lev)\n",
    "TVK1.infoTruongVoKy()"
   ]
  },
  {
   "cell_type": "code",
   "execution_count": 9,
   "metadata": {},
   "outputs": [
    {
     "name": "stdout",
     "output_type": "stream",
     "text": [
      "Vu khi:  Riu\n",
      "Tuoi:  33\n",
      "Level:  4\n"
     ]
    }
   ],
   "source": [
    "vukhi = input(\"nhap vu khi: \")\n",
    "tuoi = int(input(\"nhap tuoi: \"))\n",
    "lev = int(input(\"nhap lev: \"))\n",
    "TVK2 = mylib.TruongVoKy(vukhi, tuoi, lev)\n",
    "TVK2.infoTruongVoKy()"
   ]
  },
  {
   "cell_type": "code",
   "execution_count": 11,
   "metadata": {},
   "outputs": [
    {
     "name": "stdout",
     "output_type": "stream",
     "text": [
      "TruongVoKy la con cua TruongThuySon:  True\n"
     ]
    }
   ],
   "source": [
    "print('TruongVoKy la con cua TruongThuySon: ', issubclass(mylib.TruongVoKy, mylib.TruongThuySon))"
   ]
  },
  {
   "cell_type": "code",
   "execution_count": 12,
   "metadata": {},
   "outputs": [
    {
     "name": "stdout",
     "output_type": "stream",
     "text": [
      "TTS2 là thực thể của class TruongThuySon:  True\n"
     ]
    }
   ],
   "source": [
    "print('TTS2 là thực thể của class TruongThuySon: ', isinstance(TTS2, mylib.TruongThuySon))"
   ]
  },
  {
   "cell_type": "code",
   "execution_count": 13,
   "metadata": {},
   "outputs": [
    {
     "name": "stdout",
     "output_type": "stream",
     "text": [
      "TTS2 là thực thể của class TruongVoKy:  False\n"
     ]
    }
   ],
   "source": [
    "print('TTS2 là thực thể của class TruongVoKy: ', isinstance(TTS2, mylib.TruongVoKy))"
   ]
  },
  {
   "cell_type": "code",
   "execution_count": 14,
   "metadata": {},
   "outputs": [
    {
     "name": "stdout",
     "output_type": "stream",
     "text": [
      "TVK1 là thực thể của class TruongThuySon:  True\n"
     ]
    }
   ],
   "source": [
    "print('TVK1 là thực thể của class TruongThuySon: ', isinstance(TVK1, mylib.TruongThuySon))"
   ]
  },
  {
   "cell_type": "code",
   "execution_count": 16,
   "metadata": {},
   "outputs": [
    {
     "name": "stdout",
     "output_type": "stream",
     "text": [
      "TVK1 là thực thể của class TruongVoKy:  True\n"
     ]
    }
   ],
   "source": [
    "print('TVK1 là thực thể của class TruongVoKy: ', isinstance(TVK1, mylib.TruongVoKy))"
   ]
  }
 ],
 "metadata": {
  "kernelspec": {
   "display_name": "Python 3.10.7 64-bit",
   "language": "python",
   "name": "python3"
  },
  "language_info": {
   "codemirror_mode": {
    "name": "ipython",
    "version": 3
   },
   "file_extension": ".py",
   "mimetype": "text/x-python",
   "name": "python",
   "nbconvert_exporter": "python",
   "pygments_lexer": "ipython3",
   "version": "3.10.7"
  },
  "orig_nbformat": 4,
  "vscode": {
   "interpreter": {
    "hash": "cb7beb3013b57c7bcdb2e8843025786c7f69505c6f4c77befa87d22e0b9259a0"
   }
  }
 },
 "nbformat": 4,
 "nbformat_minor": 2
}
