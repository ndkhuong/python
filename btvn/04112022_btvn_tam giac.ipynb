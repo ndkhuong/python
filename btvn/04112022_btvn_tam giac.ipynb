{
 "cells": [
  {
   "cell_type": "code",
   "execution_count": null,
   "metadata": {},
   "outputs": [],
   "source": [
    "'''\n",
    "nhập 3 cạnh tam giác\n",
    "kiểm tra độ dài là số > 0\n",
    "kiểm tra 3 cạnh phải tạo thành 1 tam giác\n",
    "'''"
   ]
  },
  {
   "cell_type": "code",
   "execution_count": null,
   "metadata": {},
   "outputs": [],
   "source": [
    "try:\n",
    "    a = float(input('nhập cạnh a: '))\n",
    "    b = float(input('nhập cạnh b: '))\n",
    "    c = float(input('nhập cạnh c: '))\n",
    "except ValueError:\n",
    "    print(\"a, b, c phải là số\")\n",
    "finally:\n",
    "    if (a <= 0 or b <= 0 or c <= 0):\n",
    "        print(\"a, b, c phải là số > 0\")\n",
    "    elif (a + b < c or a + c < b or b + c < a):\n",
    "        print(\"a, b, c không tạo thành 1 tam giác\")"
   ]
  },
  {
   "cell_type": "code",
   "execution_count": null,
   "metadata": {},
   "outputs": [],
   "source": []
  }
 ],
 "metadata": {
  "kernelspec": {
   "display_name": "Python 3.10.7 64-bit",
   "language": "python",
   "name": "python3"
  },
  "language_info": {
   "codemirror_mode": {
    "name": "ipython",
    "version": 3
   },
   "file_extension": ".py",
   "mimetype": "text/x-python",
   "name": "python",
   "nbconvert_exporter": "python",
   "pygments_lexer": "ipython3",
   "version": "3.10.7"
  },
  "orig_nbformat": 4,
  "vscode": {
   "interpreter": {
    "hash": "cb7beb3013b57c7bcdb2e8843025786c7f69505c6f4c77befa87d22e0b9259a0"
   }
  }
 },
 "nbformat": 4,
 "nbformat_minor": 2
}
