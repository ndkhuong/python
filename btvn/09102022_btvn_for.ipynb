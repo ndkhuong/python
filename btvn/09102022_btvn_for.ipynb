{
 "cells": [
  {
   "cell_type": "code",
   "execution_count": 11,
   "metadata": {},
   "outputs": [
    {
     "name": "stdout",
     "output_type": "stream",
     "text": [
      "0000001000000\n",
      "0000020200000\n",
      "0000300030000\n",
      "0004000004000\n",
      "0050000000500\n",
      "0666666666660\n"
     ]
    }
   ],
   "source": [
    "list = [1,2,3,4,5,6]\n",
    "len = 13\n",
    "for i in list:\n",
    "    mid = len // 2\n",
    "    if (i == 6):\n",
    "        for j in range(13):\n",
    "            char = i\n",
    "            if (j == 0 or j == 12):\n",
    "                char = 0      \n",
    "            print(char, end=\"\")\n",
    "        print(\"\")\n",
    "        continue\n",
    "\n",
    "    for j in range(13):\n",
    "        char = 0\n",
    "        if (j == mid - i + 1 or j == mid + i - 1):\n",
    "            char = i       \n",
    "        print(char, end=\"\")\n",
    "    print(\"\")\n",
    "\n"
   ]
  },
  {
   "cell_type": "code",
   "execution_count": 23,
   "metadata": {},
   "outputs": [
    {
     "name": "stdout",
     "output_type": "stream",
     "text": [
      "54321012345\n",
      " 432101234 \n",
      "  3210123  \n",
      "   21012   \n",
      "    101    \n",
      "     0     \n"
     ]
    }
   ],
   "source": [
    "def print_line(n):\n",
    "    s = \"\"\n",
    "    for i in range(n, 0, -1):\n",
    "        s += str(i)\n",
    "    s += '0'\n",
    "    for i in range(1, n + 1):\n",
    "        s += str(i)\n",
    "    if (n < 5):\n",
    "        for i in range(5-n):\n",
    "            s = ' ' + s + ' '\n",
    "    print(s)\n",
    "\n",
    "for i in range(5, -1, -1):\n",
    "    print_line(i)"
   ]
  },
  {
   "cell_type": "code",
   "execution_count": 5,
   "metadata": {},
   "outputs": [
    {
     "name": "stdout",
     "output_type": "stream",
     "text": [
      "    1   \n",
      "   2 3  \n",
      "  3 4 5 \n",
      " 4 5 6 7\n"
     ]
    }
   ],
   "source": [
    "def print_line(list):\n",
    "    s = \"\"\n",
    "    for i in list:\n",
    "        s += ' ' + str(i)\n",
    "    l = len(list)\n",
    "    if (l < 4):\n",
    "        for i in range(4 - l):\n",
    "            s = ' ' + s + ' '\n",
    "    print(s)\n",
    "\n",
    "print_line([1])\n",
    "print_line([2,3])\n",
    "print_line([3,4,5])\n",
    "print_line([4,5,6,7])"
   ]
  },
  {
   "cell_type": "code",
   "execution_count": 9,
   "metadata": {},
   "outputs": [
    {
     "name": "stdout",
     "output_type": "stream",
     "text": [
      "8\n",
      "77\n",
      "666\n",
      "5555\n",
      "44444\n",
      "333333\n",
      "2222222\n",
      "11111111\n",
      "000000000\n",
      "11111111\n",
      "2222222\n",
      "333333\n",
      "44444\n",
      "5555\n",
      "666\n",
      "77\n",
      "8\n"
     ]
    }
   ],
   "source": [
    "for i in range(8, 0, -1):\n",
    "    for j in range(8 - i + 1):\n",
    "        print(i, end=\"\")\n",
    "    print(\"\")\n",
    "\n",
    "for i in range(0, 9):\n",
    "    for j in range(9 - i):\n",
    "        print(i, end=\"\")\n",
    "    print(\"\")"
   ]
  },
  {
   "cell_type": "code",
   "execution_count": null,
   "metadata": {},
   "outputs": [],
   "source": []
  }
 ],
 "metadata": {
  "kernelspec": {
   "display_name": "Python 3.10.7 64-bit",
   "language": "python",
   "name": "python3"
  },
  "language_info": {
   "codemirror_mode": {
    "name": "ipython",
    "version": 3
   },
   "file_extension": ".py",
   "mimetype": "text/x-python",
   "name": "python",
   "nbconvert_exporter": "python",
   "pygments_lexer": "ipython3",
   "version": "3.10.7"
  },
  "orig_nbformat": 4,
  "vscode": {
   "interpreter": {
    "hash": "cb7beb3013b57c7bcdb2e8843025786c7f69505c6f4c77befa87d22e0b9259a0"
   }
  }
 },
 "nbformat": 4,
 "nbformat_minor": 2
}
