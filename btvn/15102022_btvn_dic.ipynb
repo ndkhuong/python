{
 "cells": [
  {
   "cell_type": "code",
   "execution_count": 1,
   "metadata": {},
   "outputs": [],
   "source": [
    "fruits = {\"f0\": \"banana\", \"f1\": \"orange\", \"f2\": \"mango\", \"f3\": \"apple\", \"f4\": \"grape\", \"f5\": \"pineapple\", \"f6\": \"mangosteen\", \"f7\": \"durian\", \"f8\": \"lemon\", \"f9\": \"kiwi\"}"
   ]
  },
  {
   "cell_type": "code",
   "execution_count": 4,
   "metadata": {},
   "outputs": [
    {
     "name": "stdout",
     "output_type": "stream",
     "text": [
      "f0 : banana\n",
      "f1 : orange\n",
      "f2 : mango\n",
      "f3 : apple\n",
      "f4 : grape\n",
      "f5 : pineapple\n",
      "f6 : mangosteen\n",
      "f7 : durian\n",
      "f8 : lemon\n",
      "f9 : kiwi\n"
     ]
    }
   ],
   "source": [
    "for i in fruits:\n",
    "    print(i, ':', fruits[i])"
   ]
  },
  {
   "cell_type": "code",
   "execution_count": null,
   "metadata": {},
   "outputs": [],
   "source": []
  }
 ],
 "metadata": {
  "kernelspec": {
   "display_name": "Python 3.10.7 64-bit",
   "language": "python",
   "name": "python3"
  },
  "language_info": {
   "codemirror_mode": {
    "name": "ipython",
    "version": 3
   },
   "file_extension": ".py",
   "mimetype": "text/x-python",
   "name": "python",
   "nbconvert_exporter": "python",
   "pygments_lexer": "ipython3",
   "version": "3.10.7"
  },
  "orig_nbformat": 4,
  "vscode": {
   "interpreter": {
    "hash": "cb7beb3013b57c7bcdb2e8843025786c7f69505c6f4c77befa87d22e0b9259a0"
   }
  }
 },
 "nbformat": 4,
 "nbformat_minor": 2
}
