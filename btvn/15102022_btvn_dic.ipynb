{
 "cells": [
  {
   "cell_type": "code",
   "execution_count": 23,
   "metadata": {},
   "outputs": [],
   "source": [
    "#tạo dic có 10 cặp key value\n",
    "fruits = {\"f0\": \"banana\", \"f1\": \"orange\", \"f2\": \"mango\", \"f3\": \"apple\", \"f4\": \"grape\", \"f5\": \"pineapple\", \"f6\": \"mangosteen\", \"f7\": \"durian\", \"f8\": \"lemon\", \"f9\": \"kiwi\"}"
   ]
  },
  {
   "cell_type": "code",
   "execution_count": 24,
   "metadata": {},
   "outputs": [
    {
     "name": "stdout",
     "output_type": "stream",
     "text": [
      "f0 : banana\n",
      "f1 : orange\n",
      "f2 : mango\n",
      "f3 : apple\n",
      "f4 : grape\n",
      "f5 : pineapple\n",
      "f6 : mangosteen\n",
      "f7 : durian\n",
      "f8 : lemon\n",
      "f9 : kiwi\n"
     ]
    }
   ],
   "source": [
    "#in dic\n",
    "for i in fruits:\n",
    "    print(i, ':', fruits[i])"
   ]
  },
  {
   "cell_type": "code",
   "execution_count": 25,
   "metadata": {},
   "outputs": [
    {
     "name": "stdout",
     "output_type": "stream",
     "text": [
      "{'f0': 'banana', 'f1': 'orange', 'f2': 'mango', 'f3': 'apple', 'f4': 'grape', 'f5': 'ginger', 'f6': 'mangosteen', 'f7': 'durian', 'f8': 'lemon', 'f9': 'kiwi'}\n"
     ]
    }
   ],
   "source": [
    "#cập nhật phần tử có key là f5\n",
    "fruits[\"f5\"] = \"ginger\"\n",
    "print(fruits)"
   ]
  },
  {
   "cell_type": "code",
   "execution_count": 26,
   "metadata": {},
   "outputs": [],
   "source": [
    "#tạo dic 2\n",
    "fruits2 = {\"f10\": \"potato\", \"f11\": \"starfruit\", \"f12\": \"chili\"}"
   ]
  },
  {
   "cell_type": "code",
   "execution_count": 27,
   "metadata": {},
   "outputs": [
    {
     "data": {
      "text/plain": [
       "{'f0': 'banana',\n",
       " 'f1': 'orange',\n",
       " 'f2': 'mango',\n",
       " 'f3': 'apple',\n",
       " 'f4': 'grape',\n",
       " 'f5': 'ginger',\n",
       " 'f6': 'mangosteen',\n",
       " 'f7': 'durian',\n",
       " 'f8': 'lemon',\n",
       " 'f9': 'kiwi',\n",
       " 'f10': 'potato',\n",
       " 'f11': 'starfruit',\n",
       " 'f12': 'chili'}"
      ]
     },
     "execution_count": 27,
     "metadata": {},
     "output_type": "execute_result"
    }
   ],
   "source": [
    "#gắng dic 2 vào dic 1\n",
    "fruits.update(fruits2)\n",
    "fruits"
   ]
  },
  {
   "cell_type": "code",
   "execution_count": 28,
   "metadata": {},
   "outputs": [
    {
     "name": "stdout",
     "output_type": "stream",
     "text": [
      "potato\n"
     ]
    }
   ],
   "source": [
    "#in ra phần tử có key là f10\n",
    "print(fruits[\"f10\"])"
   ]
  },
  {
   "cell_type": "code",
   "execution_count": 29,
   "metadata": {},
   "outputs": [
    {
     "name": "stdout",
     "output_type": "stream",
     "text": [
      "f0\n",
      "f1\n",
      "f2\n",
      "f3\n",
      "f4\n",
      "f5\n",
      "f6\n",
      "f7\n",
      "f8\n",
      "f9\n",
      "f10\n",
      "f11\n",
      "f12\n"
     ]
    }
   ],
   "source": [
    "#in key trong dic\n",
    "for i in fruits:\n",
    "    print(i)"
   ]
  },
  {
   "cell_type": "code",
   "execution_count": 30,
   "metadata": {},
   "outputs": [
    {
     "name": "stdout",
     "output_type": "stream",
     "text": [
      "banana\n",
      "orange\n",
      "mango\n",
      "apple\n",
      "grape\n",
      "ginger\n",
      "mangosteen\n",
      "durian\n",
      "lemon\n",
      "kiwi\n",
      "potato\n",
      "starfruit\n",
      "chili\n"
     ]
    }
   ],
   "source": [
    "#in value trong dic\n",
    "for i in fruits:\n",
    "    print(fruits[i])"
   ]
  },
  {
   "cell_type": "code",
   "execution_count": 31,
   "metadata": {},
   "outputs": [
    {
     "name": "stdout",
     "output_type": "stream",
     "text": [
      "13\n"
     ]
    }
   ],
   "source": [
    "#in chieu dai dic\n",
    "print(len(fruits))"
   ]
  },
  {
   "cell_type": "code",
   "execution_count": null,
   "metadata": {},
   "outputs": [],
   "source": []
  }
 ],
 "metadata": {
  "kernelspec": {
   "display_name": "Python 3.10.7 64-bit",
   "language": "python",
   "name": "python3"
  },
  "language_info": {
   "codemirror_mode": {
    "name": "ipython",
    "version": 3
   },
   "file_extension": ".py",
   "mimetype": "text/x-python",
   "name": "python",
   "nbconvert_exporter": "python",
   "pygments_lexer": "ipython3",
   "version": "3.10.7"
  },
  "orig_nbformat": 4,
  "vscode": {
   "interpreter": {
    "hash": "cb7beb3013b57c7bcdb2e8843025786c7f69505c6f4c77befa87d22e0b9259a0"
   }
  }
 },
 "nbformat": 4,
 "nbformat_minor": 2
}
