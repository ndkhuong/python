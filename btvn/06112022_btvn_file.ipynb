{
 "cells": [
  {
   "cell_type": "code",
   "execution_count": 1,
   "metadata": {},
   "outputs": [],
   "source": [
    "filename = input(\"Nhap ten file: \")\n",
    "f = open(filename, 'w')\n",
    "for i in range(10):\n",
    "    f.write(input(\"Nhap noi dung dong {}\".format(i + 1)))\n",
    "    f.write(\"\\n\")\n",
    "f.close()"
   ]
  },
  {
   "cell_type": "code",
   "execution_count": 2,
   "metadata": {},
   "outputs": [
    {
     "name": "stdout",
     "output_type": "stream",
     "text": [
      "['qwe\\n', 'wqr\\n', 'sfd\\n', 'dsg\\n', 'xbxc\\n', 'asdf\\n', 'gfh\\n', 'vb\\n', 'ff\\n', 'ee\\n']\n"
     ]
    }
   ],
   "source": [
    "f = open(filename, 'r')\n",
    "content = f.readlines()\n",
    "print(content)"
   ]
  },
  {
   "cell_type": "code",
   "execution_count": 3,
   "metadata": {},
   "outputs": [
    {
     "name": "stdout",
     "output_type": "stream",
     "text": [
      "Co 0 dong bat dau bang Tonv\n"
     ]
    }
   ],
   "source": [
    "cnt = 0\n",
    "for row in content:\n",
    "    if (row.startswith(\"Tonv\")):\n",
    "        cnt += 1\n",
    "print(\"Co {} dong bat dau bang Tonv\".format(cnt))"
   ]
  },
  {
   "cell_type": "code",
   "execution_count": null,
   "metadata": {},
   "outputs": [],
   "source": []
  }
 ],
 "metadata": {
  "kernelspec": {
   "display_name": "Python 3.10.7 64-bit",
   "language": "python",
   "name": "python3"
  },
  "language_info": {
   "codemirror_mode": {
    "name": "ipython",
    "version": 3
   },
   "file_extension": ".py",
   "mimetype": "text/x-python",
   "name": "python",
   "nbconvert_exporter": "python",
   "pygments_lexer": "ipython3",
   "version": "3.10.7"
  },
  "orig_nbformat": 4,
  "vscode": {
   "interpreter": {
    "hash": "cb7beb3013b57c7bcdb2e8843025786c7f69505c6f4c77befa87d22e0b9259a0"
   }
  }
 },
 "nbformat": 4,
 "nbformat_minor": 2
}
