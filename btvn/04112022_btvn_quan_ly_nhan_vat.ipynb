{
 "cells": [
  {
   "cell_type": "code",
   "execution_count": 9,
   "metadata": {},
   "outputs": [],
   "source": [
    "import mylib as lib\n",
    "import random as rd"
   ]
  },
  {
   "cell_type": "code",
   "execution_count": null,
   "metadata": {},
   "outputs": [],
   "source": [
    "print(''' \n",
    "2. tim nv co lev cao nhat\n",
    "3. tim nv co lev thap nhat \n",
    "4. sap xep nv lev giam/tang dan\n",
    "5. liet ke nv lev > 5\n",
    "6. liet ke nv trong mon phai VoViNam\n",
    "7. thoat chuong trinh\n",
    "Nguoi dung chon cac chuc nang 1-7\n",
    "Xu ly ngoai le khi nguoi dung nhap sai kieu du lieu\n",
    "''')"
   ]
  },
  {
   "cell_type": "code",
   "execution_count": null,
   "metadata": {},
   "outputs": [],
   "source": [
    "#tao list nhan vat\n",
    "list_nv = []\n",
    "n = 10\n",
    "list_ten = ['A','B','C','D','E','F','G','H','I','J','K','L','M','N','O','P','Q','R','S','T']\n",
    "list_monphai = [\"Vo Dang\", \"Thieu Lam\", \"VoViNam\", \"Hoa Son\", \"Thuc Son\"]\n",
    "for i in range(n):\n",
    "    ten = list_ten[rd.randint(0, len(list_ten) - 1)]\n",
    "    monphai = list_monphai[rd.randint(0, len(list_monphai) - 1)]\n",
    "    tuoi = rd.randint(10, 100)\n",
    "    lev = rd.randint(0, 100)\n",
    "    nv = lib.NhanVat(ten, tuoi, monphai, lev)\n",
    "    list_nv.append(nv)\n",
    "\n",
    "for nv in list_nv:\n",
    "    nv.info()"
   ]
  },
  {
   "cell_type": "code",
   "execution_count": null,
   "metadata": {},
   "outputs": [],
   "source": [
    "while (True):\n",
    "    x = lib.nhap_x()\n",
    "    if (x == 2):\n",
    "        print(\"\\nNhan vat co level cao nhat: \")\n",
    "        lib.tim_nv_max_lev(list_nv)\n",
    "    elif (x == 3):\n",
    "        print(\"\\nNhan vat co level thap nhat: \")\n",
    "        lib.tim_nv_min_lev(list_nv)\n",
    "    elif (x == 4):\n",
    "        print(\"\\nSap xep nhan vat level tang dan: \")\n",
    "        lib.sap_xep_lev_tang(list_nv)\n",
    "        print(\"\\nSap xep nhan vat level giam dan: \")\n",
    "        lib.sap_xep_lev_giam(list_nv)\n",
    "    elif (x == 5):\n",
    "        print(\"\\nNhan vat co level > 5: \")\n",
    "        lib.tim_nv_lev_lon_hon_5(list_nv)\n",
    "    elif (x == 6):\n",
    "        print(\"\\nNhan vat co mon phai VoVINam: \")\n",
    "        lib.tim_nv_monphai_vovinam(list_nv)\n",
    "    elif (x == 7):\n",
    "        print(\"Ket thuc\")\n",
    "        break"
   ]
  },
  {
   "cell_type": "code",
   "execution_count": null,
   "metadata": {},
   "outputs": [],
   "source": []
  }
 ],
 "metadata": {
  "kernelspec": {
   "display_name": "Python 3.10.7 64-bit",
   "language": "python",
   "name": "python3"
  },
  "language_info": {
   "codemirror_mode": {
    "name": "ipython",
    "version": 3
   },
   "file_extension": ".py",
   "mimetype": "text/x-python",
   "name": "python",
   "nbconvert_exporter": "python",
   "pygments_lexer": "ipython3",
   "version": "3.10.7"
  },
  "orig_nbformat": 4,
  "vscode": {
   "interpreter": {
    "hash": "cb7beb3013b57c7bcdb2e8843025786c7f69505c6f4c77befa87d22e0b9259a0"
   }
  }
 },
 "nbformat": 4,
 "nbformat_minor": 2
}
