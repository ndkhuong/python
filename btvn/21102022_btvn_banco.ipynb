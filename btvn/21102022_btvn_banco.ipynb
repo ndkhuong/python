{
 "cells": [
  {
   "cell_type": "code",
   "execution_count": 1,
   "metadata": {},
   "outputs": [
    {
     "name": "stdout",
     "output_type": "stream",
     "text": [
      "□□□□□□\n",
      "□●□□□□\n",
      "□▲□□□□\n",
      "□□□□□□\n",
      "□□□□□□\n",
      "□□□□□□\n",
      "\n",
      "□●□□□□\n",
      "□▲□□□□\n",
      "□□□□□□\n",
      "□□□□□□\n",
      "□□□□□□\n",
      "□□□□□□\n",
      "\n",
      "□□□□□□\n",
      "□●□□□□\n",
      "□▲□□□□\n",
      "□□□□□□\n",
      "□□□□□□\n",
      "□□□□□□\n",
      "\n",
      "□□□□□□\n",
      "□□□□□□\n",
      "□●□□□□\n",
      "□▲□□□□\n",
      "□□□□□□\n",
      "□□□□□□\n"
     ]
    },
    {
     "ename": "KeyboardInterrupt",
     "evalue": "Interrupted by user",
     "output_type": "error",
     "traceback": [
      "\u001b[1;31m---------------------------------------------------------------------------\u001b[0m",
      "\u001b[1;31mKeyboardInterrupt\u001b[0m                         Traceback (most recent call last)",
      "Cell \u001b[1;32mIn [1], line 13\u001b[0m\n\u001b[0;32m     11\u001b[0m \u001b[39mwhile\u001b[39;00m (xTot \u001b[39m!=\u001b[39m xVua \u001b[39mor\u001b[39;00m yTot \u001b[39m!=\u001b[39m yVua):\n\u001b[0;32m     12\u001b[0m     xTot, yTot \u001b[39m=\u001b[39m mylib\u001b[39m.\u001b[39mdi_chuyen(xTot, yTot, \u001b[39m'\u001b[39m\u001b[39mTot\u001b[39m\u001b[39m'\u001b[39m)\n\u001b[1;32m---> 13\u001b[0m     xVua, yVua \u001b[39m=\u001b[39m mylib\u001b[39m.\u001b[39mdi_chuyen(xVua, yVua, \u001b[39m'\u001b[39m\u001b[39mVua\u001b[39m\u001b[39m'\u001b[39m)\n\u001b[0;32m     14\u001b[0m     \u001b[39mprint\u001b[39m(\u001b[39m\"\u001b[39m\u001b[39m\"\u001b[39m)\n\u001b[0;32m     15\u001b[0m     mylib\u001b[39m.\u001b[39mve_ban_co(xTot, yTot, xVua, yVua)\n",
      "File \u001b[1;32md:\\nestech\\btvn\\python\\btvn\\mylib.py:25\u001b[0m, in \u001b[0;36mdi_chuyen\u001b[1;34m(i, j, name)\u001b[0m\n\u001b[0;32m     24\u001b[0m \u001b[39mdef\u001b[39;00m \u001b[39mdi_chuyen\u001b[39m(i, j, name):\n\u001b[1;32m---> 25\u001b[0m     key \u001b[39m=\u001b[39m \u001b[39minput\u001b[39;49m(\u001b[39m\"\u001b[39;49m\u001b[39mnhap huong di cua \u001b[39;49m\u001b[39m{}\u001b[39;49;00m\u001b[39m (a: lui, d: toi, s: xuong, w: len): \u001b[39;49m\u001b[39m\"\u001b[39;49m\u001b[39m.\u001b[39;49mformat(name))\n\u001b[0;32m     26\u001b[0m     \u001b[39mif\u001b[39;00m (key \u001b[39m==\u001b[39m \u001b[39m'\u001b[39m\u001b[39mw\u001b[39m\u001b[39m'\u001b[39m):\n\u001b[0;32m     27\u001b[0m         i \u001b[39m-\u001b[39m\u001b[39m=\u001b[39m \u001b[39m1\u001b[39m\n",
      "File \u001b[1;32m~\\AppData\\Roaming\\Python\\Python310\\site-packages\\ipykernel\\kernelbase.py:1177\u001b[0m, in \u001b[0;36mKernel.raw_input\u001b[1;34m(self, prompt)\u001b[0m\n\u001b[0;32m   1173\u001b[0m \u001b[39mif\u001b[39;00m \u001b[39mnot\u001b[39;00m \u001b[39mself\u001b[39m\u001b[39m.\u001b[39m_allow_stdin:\n\u001b[0;32m   1174\u001b[0m     \u001b[39mraise\u001b[39;00m StdinNotImplementedError(\n\u001b[0;32m   1175\u001b[0m         \u001b[39m\"\u001b[39m\u001b[39mraw_input was called, but this frontend does not support input requests.\u001b[39m\u001b[39m\"\u001b[39m\n\u001b[0;32m   1176\u001b[0m     )\n\u001b[1;32m-> 1177\u001b[0m \u001b[39mreturn\u001b[39;00m \u001b[39mself\u001b[39;49m\u001b[39m.\u001b[39;49m_input_request(\n\u001b[0;32m   1178\u001b[0m     \u001b[39mstr\u001b[39;49m(prompt),\n\u001b[0;32m   1179\u001b[0m     \u001b[39mself\u001b[39;49m\u001b[39m.\u001b[39;49m_parent_ident[\u001b[39m\"\u001b[39;49m\u001b[39mshell\u001b[39;49m\u001b[39m\"\u001b[39;49m],\n\u001b[0;32m   1180\u001b[0m     \u001b[39mself\u001b[39;49m\u001b[39m.\u001b[39;49mget_parent(\u001b[39m\"\u001b[39;49m\u001b[39mshell\u001b[39;49m\u001b[39m\"\u001b[39;49m),\n\u001b[0;32m   1181\u001b[0m     password\u001b[39m=\u001b[39;49m\u001b[39mFalse\u001b[39;49;00m,\n\u001b[0;32m   1182\u001b[0m )\n",
      "File \u001b[1;32m~\\AppData\\Roaming\\Python\\Python310\\site-packages\\ipykernel\\kernelbase.py:1219\u001b[0m, in \u001b[0;36mKernel._input_request\u001b[1;34m(self, prompt, ident, parent, password)\u001b[0m\n\u001b[0;32m   1216\u001b[0m             \u001b[39mbreak\u001b[39;00m\n\u001b[0;32m   1217\u001b[0m \u001b[39mexcept\u001b[39;00m \u001b[39mKeyboardInterrupt\u001b[39;00m:\n\u001b[0;32m   1218\u001b[0m     \u001b[39m# re-raise KeyboardInterrupt, to truncate traceback\u001b[39;00m\n\u001b[1;32m-> 1219\u001b[0m     \u001b[39mraise\u001b[39;00m \u001b[39mKeyboardInterrupt\u001b[39;00m(\u001b[39m\"\u001b[39m\u001b[39mInterrupted by user\u001b[39m\u001b[39m\"\u001b[39m) \u001b[39mfrom\u001b[39;00m \u001b[39mNone\u001b[39m\n\u001b[0;32m   1220\u001b[0m \u001b[39mexcept\u001b[39;00m \u001b[39mException\u001b[39;00m:\n\u001b[0;32m   1221\u001b[0m     \u001b[39mself\u001b[39m\u001b[39m.\u001b[39mlog\u001b[39m.\u001b[39mwarning(\u001b[39m\"\u001b[39m\u001b[39mInvalid Message:\u001b[39m\u001b[39m\"\u001b[39m, exc_info\u001b[39m=\u001b[39m\u001b[39mTrue\u001b[39;00m)\n",
      "\u001b[1;31mKeyboardInterrupt\u001b[0m: Interrupted by user"
     ]
    }
   ],
   "source": [
    "import random as rd\n",
    "import os\n",
    "import mylib\n",
    "\n",
    "xVua = rd.randrange(0, 5)\n",
    "yVua = rd.randrange(0, 5)\n",
    "xTot = int(input(\"nhap xTot: \"))\n",
    "yTot = int(input(\"nhap yTot: \"))\n",
    "mylib.ve_ban_co(xTot, yTot, xVua, yVua)\n",
    "\n",
    "while (xTot != xVua or yTot != yVua):\n",
    "    xTot, yTot = mylib.di_chuyen(xTot, yTot, 'Tot')\n",
    "    xVua, yVua = mylib.di_chuyen(xVua, yVua, 'Vua')\n",
    "    os.system('cls')\n",
    "    mylib.ve_ban_co(xTot, yTot, xVua, yVua)\n",
    "print(\"Chien thang\")"
   ]
  },
  {
   "cell_type": "code",
   "execution_count": 8,
   "metadata": {},
   "outputs": [
    {
     "name": "stdout",
     "output_type": "stream",
     "text": [
      "aa\n",
      "bb\n"
     ]
    }
   ],
   "source": [
    "def clear():\n",
    "    os.system( 'cls' )\n",
    "\n",
    "print('aa')\n",
    "clear()\n",
    "print('bb')"
   ]
  },
  {
   "cell_type": "code",
   "execution_count": null,
   "metadata": {},
   "outputs": [],
   "source": []
  }
 ],
 "metadata": {
  "kernelspec": {
   "display_name": "Python 3.10.7 64-bit",
   "language": "python",
   "name": "python3"
  },
  "language_info": {
   "codemirror_mode": {
    "name": "ipython",
    "version": 3
   },
   "file_extension": ".py",
   "mimetype": "text/x-python",
   "name": "python",
   "nbconvert_exporter": "python",
   "pygments_lexer": "ipython3",
   "version": "3.10.7"
  },
  "orig_nbformat": 4,
  "vscode": {
   "interpreter": {
    "hash": "cb7beb3013b57c7bcdb2e8843025786c7f69505c6f4c77befa87d22e0b9259a0"
   }
  }
 },
 "nbformat": 4,
 "nbformat_minor": 2
}
