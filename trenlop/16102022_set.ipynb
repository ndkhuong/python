{
 "cells": [
  {
   "cell_type": "code",
   "execution_count": 12,
   "metadata": {},
   "outputs": [
    {
     "name": "stdout",
     "output_type": "stream",
     "text": [
      "*        *\n",
      "**       *\n",
      "* *      *\n",
      "*  *     *\n",
      "*   *    *\n",
      "*    *   *\n",
      "*     *  *\n",
      "*      * *\n",
      "*       **\n",
      "*        *\n",
      "\n"
     ]
    }
   ],
   "source": [
    "n = 10\n",
    "a = ''\n",
    "for i in range(n):\n",
    "    for j in range(n):\n",
    "        if (j == 0 or j == i or  j == n - 1):\n",
    "            a += '*'\n",
    "        else:\n",
    "            a += ' '\n",
    "    a += \"\\n\"\n",
    "print(a)"
   ]
  }
 ],
 "metadata": {
  "kernelspec": {
   "display_name": "Python 3.10.7 64-bit",
   "language": "python",
   "name": "python3"
  },
  "language_info": {
   "codemirror_mode": {
    "name": "ipython",
    "version": 3
   },
   "file_extension": ".py",
   "mimetype": "text/x-python",
   "name": "python",
   "nbconvert_exporter": "python",
   "pygments_lexer": "ipython3",
   "version": "3.10.7"
  },
  "orig_nbformat": 4,
  "vscode": {
   "interpreter": {
    "hash": "cb7beb3013b57c7bcdb2e8843025786c7f69505c6f4c77befa87d22e0b9259a0"
   }
  }
 },
 "nbformat": 4,
 "nbformat_minor": 2
}
