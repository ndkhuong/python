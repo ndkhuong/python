{
 "cells": [
  {
   "cell_type": "code",
   "execution_count": null,
   "metadata": {},
   "outputs": [],
   "source": [
    "mở file demo.txx và ghi du lieuj 5 dong \n",
    "lap trinh python\n",
    "dola python\n",
    "dola python\n",
    "dola python\n",
    "dola python\n",
    "viết mã đẻ đọc file và in ra man hình\n",
    "kiển tra có bao nhieu dong có chữ\"dola\"\n"
   ]
  },
  {
   "cell_type": "code",
   "execution_count": 19,
   "metadata": {},
   "outputs": [],
   "source": [
    "f = open('demo.txt', 'w')\n",
    "f.write(\"lap trinh python\\n\")\n",
    "for i in range(5):\n",
    "    f.write(\"dola python\\n\")\n",
    "f.close()\n",
    "\n",
    "\n"
   ]
  },
  {
   "cell_type": "code",
   "execution_count": null,
   "metadata": {},
   "outputs": [],
   "source": [
    "f = open('demo.txt', 'r')\n",
    "print(f.read())\n",
    "\n",
    "cnt = 0\n",
    "while (f.readline() != ''):\n",
    "    row = f.readline()\n",
    "    if ('dola' in row):\n",
    "        cnt += 1\n",
    "print(\"So dong chua tu 'dola': \", cnt)\n",
    "\n",
    "f.close()"
   ]
  },
  {
   "cell_type": "code",
   "execution_count": 18,
   "metadata": {},
   "outputs": [
    {
     "name": "stdout",
     "output_type": "stream",
     "text": [
      "['lap trinh python\\n', 'dola python\\n', 'dola python\\n', 'dola python\\n', 'dola python\\n', 'dola python\\n']\n",
      "So dong chua tu 'dola':  5\n"
     ]
    }
   ],
   "source": [
    "f = open('demo.txt', 'r')\n",
    "content = f.readlines()\n",
    "print(content)\n",
    "cnt = 0\n",
    "for row in content:\n",
    "    if ('dola' in row):\n",
    "        cnt += 1\n",
    "print(\"So dong chua tu 'dola': \", cnt)\n",
    "\n",
    "f.close()\n"
   ]
  },
  {
   "cell_type": "code",
   "execution_count": 21,
   "metadata": {},
   "outputs": [
    {
     "name": "stdout",
     "output_type": "stream",
     "text": [
      "lap trinh python\n",
      "\n",
      "dola python\n",
      "\n",
      "dola python\n",
      "\n",
      "dola python\n",
      "\n",
      "dola python\n",
      "\n",
      "dola python\n",
      "\n",
      "So dong chua tu 'dola':  5\n"
     ]
    }
   ],
   "source": [
    "f = open('demo.txt', 'r')\n",
    "cnt = 0\n",
    "for row in f:\n",
    "    print(row)\n",
    "    if ('dola' in row):\n",
    "        cnt += 1\n",
    "print(\"So dong chua tu 'dola': \", cnt)"
   ]
  },
  {
   "cell_type": "code",
   "execution_count": 2,
   "metadata": {},
   "outputs": [
    {
     "name": "stdout",
     "output_type": "stream",
     "text": [
      "file ko ton tai\n"
     ]
    }
   ],
   "source": [
    "import os\n",
    "\n",
    "if (os.path.exists(\"demo.txt\")):\n",
    "    os.remove('demo.txt')\n",
    "else:\n",
    "    print(\"file ko ton tai\")"
   ]
  },
  {
   "cell_type": "code",
   "execution_count": 4,
   "metadata": {},
   "outputs": [
    {
     "data": {
      "text/plain": [
       "2"
      ]
     },
     "execution_count": 4,
     "metadata": {},
     "output_type": "execute_result"
    }
   ],
   "source": [
    "sentence = 'aaaa'\n",
    "sentence.count('aa')"
   ]
  }
 ],
 "metadata": {
  "kernelspec": {
   "display_name": "Python 3.10.7 64-bit",
   "language": "python",
   "name": "python3"
  },
  "language_info": {
   "codemirror_mode": {
    "name": "ipython",
    "version": 3
   },
   "file_extension": ".py",
   "mimetype": "text/x-python",
   "name": "python",
   "nbconvert_exporter": "python",
   "pygments_lexer": "ipython3",
   "version": "3.10.7"
  },
  "orig_nbformat": 4,
  "vscode": {
   "interpreter": {
    "hash": "cb7beb3013b57c7bcdb2e8843025786c7f69505c6f4c77befa87d22e0b9259a0"
   }
  }
 },
 "nbformat": 4,
 "nbformat_minor": 2
}
